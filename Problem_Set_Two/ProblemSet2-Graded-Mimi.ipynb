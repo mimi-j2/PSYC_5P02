{
 "cells": [
  {
   "cell_type": "markdown",
   "id": "6a5456ba",
   "metadata": {},
   "source": [
    "# PSYC 5P02- Introduction to Programming for Psychology\n",
    "## Fall 2025\n",
    "\n",
    "### Problem Set #2 - Grading Rubric\n",
    "\n",
    "### Assigned September 25 - Due October 2\n",
    "### Late Penalty: 5%/day\n",
    "\n",
    "\n",
    "### Rubric:\n",
    "* Accuracy & Efficiency: 50%\n",
    "* Explaination and documentation: 50%\n",
    "\n",
    "---"
   ]
  },
  {
   "cell_type": "markdown",
   "id": "7eda2849",
   "metadata": {},
   "source": [
    "**Question 1:**\n",
    "\n",
    "_(a)_ Generate 100 normally distributed values with a mean of 0.7 and a standard deviation of .2. (/2)"
   ]
  },
  {
   "cell_type": "code",
   "execution_count": 4,
   "id": "92543f2e",
   "metadata": {},
   "outputs": [
    {
     "name": "stdout",
     "output_type": "stream",
     "text": [
      "0.6795946430932535\n",
      "[0.570376398504584, 0.8710909070364078, 0.4515006510221775, 0.400541998094273, 0.8485673515254427, 0.3841819705252176, 0.7923005506406375, 0.8308757668954407, 0.758146910744148, 0.7233319018576565, 0.6835635621830866, 0.5498397486383668, 0.6087460080256044, 0.577791575343347, 0.5658327445356754, 0.4925883064298534, 0.45172610206186825, 0.8029954906192901, 0.5921077595007986, 0.7612146563295032, 0.9341611974001843, 0.8203392222167194, 0.6854396635390453, 0.758311090606944, 0.6559036458004104, 0.48387483883563887, 1.0801107735315245, 0.8881067897114279, 0.789519997009171, 0.47968208866696194, 0.8850288116510947, 0.33397277573197104, 0.7955820550150717, 0.7336864411903385, 0.8083025215379418, 0.5290269451100231, 0.6049685366900657, 0.26076707340054023, 0.5006840091152139, 0.576626864389893, 0.7915937777027056, 0.6753303653055875, 0.3298268179833722, 0.7143598875049311, 0.3754692376432121, 0.6076192411898692, 0.7821362708968955, 0.8563932563180702, 0.8829306531079818, 0.6997952905830528, 0.9443715876710471, 0.5007423743676648, 0.3958009399559328, 0.6435782353516639, 0.6655524244887864, 0.841542998429673, 0.8214877547000311, 0.5688660070940822, 0.7783682003448453, 0.7391996670236788, 0.6048402410058583, 0.5767455972615265, 0.8474293981100245, 0.5069745101943937, 0.5229093799621403, 0.8771092498741779, 0.3025112495173208, 0.7022461560680741, 0.8115661015160278, 0.6336966917146304, 0.668398930661506, 0.7074383169601712, 0.934500776001208, 0.5935132548092534, 0.7333021816663281, 0.5894749735391425, 0.7887376750859495, 0.7377437791562684, 0.7914134540233957, 0.579619787860268, 0.8577787802119246, 0.7060343474892343, 0.7727882085648496, 0.7984903926919744, 0.7893063709552681, 0.9331691835535929, 0.5104509336601712, 0.6085722956978858, 0.5803342033435828, 0.6055176185002981, 0.8588851184341905, 0.7706989391103631, 0.7295074214328747, 0.9111297721124629, 0.5828662533576305, 0.6133186138435834, 0.7784549599010588, 0.8761110579126057, 0.7113355734919516, 0.5181618707455399]\n",
      "100\n"
     ]
    }
   ],
   "source": [
    "import random\n",
    "import numpy as np\n",
    "\n",
    "#makes an empty list\n",
    "randomlist = []\n",
    "\n",
    "#does a loop where it repetes the normalvariate function 100 times\n",
    "for n in range(100):\n",
    "    #produces random numbers in a normal distribution with a mean of 0.7 and a standard deviation of 0.2\n",
    "    generate = random.normalvariate(0.7, 0.2)\n",
    "    #appends what was generated to an empty list\n",
    "    randomlist.append(generate)\n",
    "\n",
    "#this is me just checking\n",
    "print(np.mean(randomlist))\n",
    "print(randomlist)\n",
    "print(len(randomlist))\n",
    "\n",
    "#this is to check if upper bound is working\n",
    "#randomlist.extend([1.5])\n"
   ]
  },
  {
   "cell_type": "markdown",
   "id": "19131ca5",
   "metadata": {},
   "source": [
    "**Commnets:** \n",
    "- good work. Works as expected. Could also use this fun code: `random_numbers = [random.normalvariate(mu, sigma) for _ in range(100)]`\n",
    "- Code 2/2, documentation 2/2 **4/4**"
   ]
  },
  {
   "cell_type": "markdown",
   "id": "a13e5e64",
   "metadata": {},
   "source": [
    "_(b)_ Create a function that calculates the mean and standard deviation some list of values, and remove any values that exceed 2.5 SDs of the mean, recursively, until there are no outliers to remove. **Note:** The numbers to be trimmed should be an argument passed to the function. (/10)"
   ]
  },
  {
   "cell_type": "code",
   "execution_count": 2,
   "id": "53883e5e",
   "metadata": {},
   "outputs": [],
   "source": [
    "\n",
    "#definition to take out outlier data and produce clean outlier-free data\n",
    "def outlier_data(data, threshold = 2.5):\n",
    "\n",
    "    #defining outlier list\n",
    "    outliers = []\n",
    "    #defining clean data list - to put non-outliers\n",
    "    clean_data = []\n",
    " \n",
    "    #where we store if it is an outlier or not numbers\n",
    "    outlier_count = []\n",
    "    \n",
    "    #will calculate the inital mean of the data\n",
    "    mean = np.mean(data)\n",
    "    #will calculate the inital standard deviation of the data\n",
    "    std = np.std(data)\n",
    "    \n",
    "    #will calculate the inital lower bound - 2.5 std below the threshold\n",
    "    lower_bound = mean - threshold * std\n",
    "    #will calculate the inital upper bound - 2.5 standard deviations above the threshold\n",
    "    upper_bound = mean + threshold * std\n",
    "    \n",
    "    #this goes over each data point and determines if it is anoutlier with the new parameters set\n",
    "    #0 = is not an outlier\n",
    "    #1 = is an outlier\n",
    "    for n in data:\n",
    "        if lower_bound <= n <= upper_bound:\n",
    "            outlier_count.append(0)  \n",
    "        else:\n",
    "            outlier_count.append(1)\n",
    "\n",
    "    #if there are no outliers in the data just put the data into clean_data\n",
    "    if sum(outlier_count) == 0:\n",
    "        for num in data:\n",
    "            clean_data.append(num)\n",
    "        data = clean_data\n",
    "    \n",
    "    #loop where while there are any outliers (sum of outlier count is over 0) in the list it will do the calculation\n",
    "    else:\n",
    "        while sum(outlier_count) != 0:\n",
    "            \n",
    "            #making the list empty again\n",
    "            clean_data = []\n",
    "            \n",
    "            #if the number is within the lower and upper bound add it ot the clean data\n",
    "            #online help for the between bounds: https://stackoverflow.com/questions/13628791/determine-whether-integer-is-between-two-other-integers\n",
    "            for num in data:\n",
    "                if lower_bound <= num <= upper_bound:\n",
    "                    clean_data.append(num)\n",
    "                #if num is not within the bounds then add it to outliers\n",
    "                else:\n",
    "                    outliers.append(num)\n",
    "    \n",
    "            #will calculate the new mean of the data\n",
    "            mean = np.mean(clean_data)\n",
    "            #will calculate the new standard deviation of the data\n",
    "            std = np.std(clean_data)\n",
    "            \n",
    "            #will calculate the new lower bound - 2.5 std below the threshold\n",
    "            lower_bound = mean - threshold * std\n",
    "            #will calculate the new upper bound - 2.5 standard deviations above the threshold\n",
    "            upper_bound = mean + threshold * std\n",
    "            \n",
    "            #reseting the outlier list\n",
    "            outlier_count = []\n",
    "            \n",
    "            #this goes over each data point and determines if it is anoutlier with the new parameters set\n",
    "            #0 = is not an outlier\n",
    "            #1 = is an outlier\n",
    "            for n in data:\n",
    "                if lower_bound <= n <= upper_bound:\n",
    "                    outlier_count.append(0)  \n",
    "                else:\n",
    "                    outlier_count.append(1)\n",
    "                \n",
    "            #making data equal the new data\n",
    "            data = clean_data\n",
    "            \n",
    "            #if the sum is equal to 0 (which means no outliers) it will break\n",
    "            if sum(outlier_count) == 0:\n",
    "                break\n",
    "\n",
    "    return clean_data\n"
   ]
  },
  {
   "cell_type": "markdown",
   "id": "45a6b3d1",
   "metadata": {},
   "source": [
    "**Comments:**\n",
    "- The code works, but it's a little \"spaghetti\" as you like to say. For starters, you're calculating outliers in two(!) different places. You also re-use the block of code where you calculate it - so even if you wanted to use this solution, you could make a separte function that calls that code again. Try to make it so that you don't have to re-use code.\n",
    "- For example, you could try to calculate whether the mean and SD, check for outliers, then have a statement where if there are no outliers, you break. If you just loop that over and over it should do what you want.\n",
    "- Also, rather than looping through each value in the list, you could try to index the locations of outliers, similar to: ``cleaned_data = data[(data < sd_cut_above) & (data > sd_cut_below)]``\n",
    "- code: 3/5, documentation 5/5, **total: 8/10**"
   ]
  },
  {
   "cell_type": "markdown",
   "id": "137f3b2c",
   "metadata": {},
   "source": [
    "_(c)_ Apply the function created in _(b)_ to the the list of 100 numbers you generated in _(a)_. Produce the mean, SD, and number of outliers removed by the procedure. (/4)"
   ]
  },
  {
   "cell_type": "code",
   "execution_count": 5,
   "id": "a835e011",
   "metadata": {},
   "outputs": [
    {
     "name": "stdout",
     "output_type": "stream",
     "text": [
      "[0.570376398504584, 0.8710909070364078, 0.4515006510221775, 0.400541998094273, 0.8485673515254427, 0.3841819705252176, 0.7923005506406375, 0.8308757668954407, 0.758146910744148, 0.7233319018576565, 0.6835635621830866, 0.5498397486383668, 0.6087460080256044, 0.577791575343347, 0.5658327445356754, 0.4925883064298534, 0.45172610206186825, 0.8029954906192901, 0.5921077595007986, 0.7612146563295032, 0.9341611974001843, 0.8203392222167194, 0.6854396635390453, 0.758311090606944, 0.6559036458004104, 0.48387483883563887, 1.0801107735315245, 0.8881067897114279, 0.789519997009171, 0.47968208866696194, 0.8850288116510947, 0.33397277573197104, 0.7955820550150717, 0.7336864411903385, 0.8083025215379418, 0.5290269451100231, 0.6049685366900657, 0.5006840091152139, 0.576626864389893, 0.7915937777027056, 0.6753303653055875, 0.3298268179833722, 0.7143598875049311, 0.3754692376432121, 0.6076192411898692, 0.7821362708968955, 0.8563932563180702, 0.8829306531079818, 0.6997952905830528, 0.9443715876710471, 0.5007423743676648, 0.3958009399559328, 0.6435782353516639, 0.6655524244887864, 0.841542998429673, 0.8214877547000311, 0.5688660070940822, 0.7783682003448453, 0.7391996670236788, 0.6048402410058583, 0.5767455972615265, 0.8474293981100245, 0.5069745101943937, 0.5229093799621403, 0.8771092498741779, 0.3025112495173208, 0.7022461560680741, 0.8115661015160278, 0.6336966917146304, 0.668398930661506, 0.7074383169601712, 0.934500776001208, 0.5935132548092534, 0.7333021816663281, 0.5894749735391425, 0.7887376750859495, 0.7377437791562684, 0.7914134540233957, 0.579619787860268, 0.8577787802119246, 0.7060343474892343, 0.7727882085648496, 0.7984903926919744, 0.7893063709552681, 0.9331691835535929, 0.5104509336601712, 0.6085722956978858, 0.5803342033435828, 0.6055176185002981, 0.8588851184341905, 0.7706989391103631, 0.7295074214328747, 0.9111297721124629, 0.5828662533576305, 0.6133186138435834, 0.7784549599010588, 0.8761110579126057, 0.7113355734919516, 0.5181618707455399]\n",
      "99\n",
      "my mean is: 0.6838252246053012\n",
      "my standard deviation is: 0.1592490522560327\n",
      "I removed 1 outliers\n"
     ]
    }
   ],
   "source": [
    "#create a new list where the outlier_data function is applied\n",
    "cleanedlist = outlier_data(randomlist)\n",
    "print(cleanedlist)\n",
    "print(len(cleanedlist))\n",
    "\n",
    "#produces mean of the cleaned list\n",
    "mean = np.mean(cleanedlist)\n",
    "print(\"my mean is: \" + str(mean))\n",
    "\n",
    "#produces standard deviation of the clean list\n",
    "std = np.std(cleanedlist)\n",
    "print(\"my standard deviation is: \" + str(std))\n",
    "\n",
    "#Produces number of outliers removed by procedue\n",
    "outliers = 100 - len(cleanedlist)\n",
    "print(\"I removed \" + str(outliers) + \" outliers\")\n"
   ]
  },
  {
   "cell_type": "markdown",
   "id": "384e9f27",
   "metadata": {},
   "source": [
    "**comments:**\n",
    "- Good call to your function, but why hardcode the value `100` here? It won't work properly if you have a different size list the next time around\n",
    "- code: 1/2, documentation: 2/2 **total: 3/4**\n",
    "\n",
    "**Question 1 total: 15/18**"
   ]
  },
  {
   "cell_type": "markdown",
   "id": "a138ffb4",
   "metadata": {},
   "source": [
    "**Question 2:** \n",
    "\n",
    "*(a)* Create a list with 10 names of hypothetical students (use only lists for now). Create a second list of 10 theoretical grades between 76 and 100. Assume the order of the grades is the same order of the list of names."
   ]
  },
  {
   "cell_type": "code",
   "execution_count": 7,
   "id": "2e193c8a",
   "metadata": {},
   "outputs": [],
   "source": [
    "\n",
    "#2a) Hypothetical lists of student names and grades\n",
    "\n",
    "#list of students\n",
    "studentlist = ['Alex', 'Adam', 'Kris', 'Steve', 'Eve', 'Sally', 'Sarah', 'Polly', 'Luna', 'Penny']\n",
    "\n",
    "#list of grades that correspond to order of students\n",
    "grades = [88, 90, 77, 76, 82, 79, 95, 86, 93, 100]\n"
   ]
  },
  {
   "cell_type": "markdown",
   "id": "f4bb550e",
   "metadata": {},
   "source": [
    "**Commnents:**\n",
    "- Why not create the grades using the randomization functions? \n",
    "- code 1/2, documentation 2/2. **total: 3/4**"
   ]
  },
  {
   "cell_type": "markdown",
   "id": "4dadfce7",
   "metadata": {},
   "source": [
    "*(b)* Write a script that loops through each of the students, and then return's their letter grade based on this convention:\n",
    "\n",
    "* A+: >=90\n",
    "* 85 >= A <90\n",
    "* 80 >= A- <85\n",
    "* 76 >= B+ < 80\n",
    "\n",
    "(/6)"
   ]
  },
  {
   "cell_type": "code",
   "execution_count": 12,
   "id": "108fa11a",
   "metadata": {},
   "outputs": [
    {
     "name": "stdout",
     "output_type": "stream",
     "text": [
      "Alex 88 A\n",
      "Adam 90 A+\n",
      "Kris 77 B+\n",
      "Steve 76 B+\n",
      "Eve 82 A-\n",
      "Sally 79 B+\n",
      "Sarah 95 A+\n",
      "Polly 86 A\n",
      "Luna 93 A+\n",
      "Penny 100 A+\n"
     ]
    }
   ],
   "source": [
    "#Questions 2\n",
    "#creates a for loop that takes each name and each grade in the lists above and will give name, actual grade, and letter grade\n",
    "#online help for zip: https://stackoverflow.com/questions/1663807/how-do-i-iterate-through-two-lists-in-parallel\n",
    "for name, grade in zip(studentlist, grades):\n",
    "    if grade >= 90:                                     #if grade is larger or equal to 90 prints name, actual grade and letter grade (A+)\n",
    "        print(name + \" \" + str(grade) + ' A+')\n",
    "    elif grade >= 85 and grade < 90:                   #if grade is between 85 and 89 prints, name, actual grade, and letter grade (A)\n",
    "        print(name + \" \" + str(grade) + ' A')\n",
    "    elif grade >= 80 and grade < 85:                  #if grade is between 80 and 84 prints, name, actual grade and letter grade (A-)\n",
    "        print(name + \" \" + str(grade) + ' A-')\n",
    "    else:                                              #all else prints name, grade and letter grade (B+)\n",
    "        print(name + \" \" + str(grade) + ' B+')\n"
   ]
  },
  {
   "cell_type": "markdown",
   "id": "9dc46994",
   "metadata": {},
   "source": [
    "**Comments:**\n",
    "- Good!\n",
    "- code: 3/3, documentation: 3/3, **total: 6/6**\n",
    "\n",
    "**Question 2 total: 9/10**"
   ]
  },
  {
   "cell_type": "markdown",
   "id": "c13480ea",
   "metadata": {},
   "source": [
    "**Question 3:**\tWrite a function called ‘gradeLookup’ that takes, as an input from the user, a student’s name. Then  look up the info based on Question 2, and write to the command window the student’s name, numerical grade, and letter grade. \n",
    "\n",
    "**Bonus:** Can you figure out a way to ensure that the name entered is one that exists in the list?? "
   ]
  },
  {
   "cell_type": "code",
   "execution_count": 11,
   "id": "16e44246",
   "metadata": {},
   "outputs": [
    {
     "name": "stdout",
     "output_type": "stream",
     "text": [
      "Enter student name: Sally\n",
      "Sally 79 B+\n"
     ]
    }
   ],
   "source": [
    "\n",
    "#creates a definition version of code above except removing the for loop to use in next step\n",
    "def gradecalculator(name, grade):\n",
    "    if grade >= 90:\n",
    "        average = print(name + \" \" + str(grade) + ' A+')\n",
    "    elif grade >= 85 and grade < 90:\n",
    "        average = print(name + \" \" + str(grade) + ' A')\n",
    "    elif grade >= 80 and grade < 85:\n",
    "        average = print(name + \" \" + str(grade) + ' A-')\n",
    "    else:\n",
    "        average = print(name + \" \" + str(grade) + ' B+')\n",
    "    return average\n",
    "\n",
    "#students input their name and if student is in list will retrieve the name, number grade, and letter grade for student\n",
    "#if not in list will return: student not in list\n",
    "def gradeLookup(name_list, grade_list):\n",
    "    name_input = input('Enter student name: ')            #user inputs name\n",
    "    if name_input in name_list:                             #if name is in name list will do the following actions\n",
    "        if name_input == 'Alex':         #if name Alex retrieves the name from name list and correspondent grade from grade list (in index position 0) and uses gradecalculator to give back grades for student\n",
    "            grades = gradecalculator(name_list[0], grade_list[0])        #done for rest of students\n",
    "        if name_input == 'Adam':\n",
    "            grades = gradecalculator(name_list[1], grade_list[1])\n",
    "        elif name_input == \"Kris\":\n",
    "            grades = gradecalculator(name_input[2], grade_list[2])\n",
    "        elif name_input == \"Steve\":\n",
    "            grades = gradecalculator(name_list[3], grade_list[3])\n",
    "        elif name_input == \"Eve\":\n",
    "            grades = gradecalculator(name_list[4], grade_list[4])\n",
    "        elif name_input == \"Sally\":\n",
    "            grades = gradecalculator(name_list[5], grade_list[5])\n",
    "        elif name_input == \"Sarah\":\n",
    "            grades = gradecalculator(name_list[6], grade_list[6])\n",
    "        elif name_input == \"Polly\":\n",
    "            grades = gradecalculator(name_list[7], grade_list[7])\n",
    "        elif name_input == \"Luna\":\n",
    "            grades = gradecalculator(name_list[8], grade_list[8])\n",
    "        elif name_input == \"Penny\":\n",
    "            grades = gradecalculator(name_list[9], grade_list[9])\n",
    "    else:                                     #if student not in list will print student not in list\n",
    "        grades = print(\"Student not in list\")\n",
    "    return grades\n",
    "\n",
    "#activates function\n",
    "gradeLookup(studentlist, grades)"
   ]
  },
  {
   "cell_type": "markdown",
   "id": "f2824cb7",
   "metadata": {},
   "source": [
    "**Comments:**\n",
    "- Good use of multiple functions here!\n",
    "- However, you again have hard coded the second part, where you're assigning a value like Alex to location [0]. Why not look up where Alex is in your list and then use that location to find the grade?! You were basically doing that in the loop you created above!\n",
    "- Bonus will return a response which is find but is equivalent to an error code. \n",
    "- code: 1.5/3, documentation: 3/3, **total: 4.5/6**"
   ]
  },
  {
   "cell_type": "markdown",
   "id": "a90071a5",
   "metadata": {},
   "source": [
    "**Question 4:** Write a Python class called PersonalityProfile that stores a participant’s scores on each of the Big Five traits (Openness, Conscientiousness, Agreeableness, Extraversion, Neuroticism) on a scale from 1–5.\n",
    "\n",
    "Your class should include:\n",
    "\n",
    "An \\_\\_init\\_\\_ method that initializes the five traits, as well as the participant number.\n",
    "\n",
    "A method _is_introvert()_ that returns True if the participant’s Extraversion score is less than 3, and False otherwise (feel free to make a similar method for all 5 traits).\n",
    "\n",
    "**Bonus:** Create a method called _summary()_ that returns a string describing the participant’s strongest trait (the one with the highest score).\n"
   ]
  },
  {
   "cell_type": "code",
   "execution_count": 13,
   "id": "1696cd0d",
   "metadata": {},
   "outputs": [
    {
     "name": "stdout",
     "output_type": "stream",
     "text": [
      "Enter your participantID: 999\n",
      "Enter your Openness from 1-5: 1\n",
      "Enter your Conscientiousness from 1-5: 3\n",
      "Enter your Agreeableness from 1-5: 5\n",
      "Enter your Extraversion from 1-5: 2\n",
      "Enter your Neuroticism from 1-5: 3\n",
      "Your highest trait is Agreeableness at a score of: 5\n",
      "Participant ID is: 999\n",
      "Openness Score is: 1\n",
      "Conscientiousness Score is: 3\n",
      "Agreeableness Score is: 5\n",
      "Extraversion Score is: 2\n",
      "Neuroticism Score is: 3\n",
      "introvert (True/False): \n",
      "True\n"
     ]
    }
   ],
   "source": [
    "#takes a prompt that produces an integer and if value that participant puts is higher than the high or lower than the low will tell user it is an invalid answer and ask the question again\n",
    "#online help for function below: https://stackoverflow.com/questions/32553941/how-to-redo-an-input-if-user-enters-invalid-answer\n",
    "def rangedinput(prompt, low, high):\n",
    "    #starts at true\n",
    "    while True:\n",
    "        #where user gives a numbered input\n",
    "        user_input = int(input(prompt))\n",
    "        #if users number is in-between the low and high will return the input (basically stop from asking)\n",
    "        if low <= user_input <= high:\n",
    "            return user_input\n",
    "        #prints invalid option if particiapnt puts in a number outside the valid input range, but will produce ValueError if anything other than int\n",
    "        print('invalid option')    \n",
    "\n",
    "#creates a personality profile class that takes a score of each personality trait, made it so that it takes input from user but I know I can just put the numbers for each attributes in directly when calling the class\n",
    "class PersonalityProfile:\n",
    "    def __init__(self, participantID = 0, Openness = 0, Conscientiousness = 0, Agreeableness = 0, Extraversion = 0, Neuroticism = 0):\n",
    "        #asks user to enter participant ID, will produce an error if not an integer\n",
    "        self.participantID = int(input(\"Enter your participantID: \" ))\n",
    "        #using the rangedinput function created above for the openness attribute askes participants to enter openness from 1-5 and then stores that value in self.Openness\n",
    "        self.Openness = rangedinput(\"Enter your Openness from 1-5: \", 1, 5)\n",
    "        #same is done in rest of attributes\n",
    "        self.Conscientiousness = rangedinput(\"Enter your Conscientiousness from 1-5: \", 1, 5)\n",
    "        self.Agreeableness = rangedinput(\"Enter your Agreeableness from 1-5: \", 1, 5)\n",
    "        self.Extraversion = rangedinput(\"Enter your Extraversion from 1-5: \", 1, 5)\n",
    "        self.Neuroticism = rangedinput(\"Enter your Neuroticism from 1-5: \", 1, 5)\n",
    "    \n",
    "    #thsi function first prints what the true and false are for and then if extraversion score is smaller tnan 3 will print true\n",
    "    def is_introvert(self):\n",
    "        print('introvert (True/False): ')\n",
    "        #if smaller than 3 - print True to introversion\n",
    "        if self.Extraversion < 3:\n",
    "            print(True)\n",
    "        else: #if larger than 3 print false\n",
    "            print(False)\n",
    "            \n",
    "    #the function below prints each score of each trait and tells you what trait that score belongs to\n",
    "    def whole_summary(self):\n",
    "        print(\"Participant ID is: \" + str(self.participantID))    #converted it to a string because can't combine a string and an integer\n",
    "        print(\"Openness Score is: \" + str(self.Openness))\n",
    "        print(\"Conscientiousness Score is: \" + str(self.Conscientiousness))\n",
    "        print(\"Agreeableness Score is: \" + str(self.Agreeableness))\n",
    "        print(\"Extraversion Score is: \" + str(self.Extraversion))\n",
    "        print(\"Neuroticism Score is: \" + str(self.Neuroticism))\n",
    "\n",
    "#this function takes all the personality traits and puts them in a list and then compares each one to see if it is equal to the max of the list\n",
    "#if it is then it prints what the trait is and whats the score\n",
    "    def summary(self):\n",
    "        #creates a list with all the personality traits\n",
    "        personality_traits = [self.Openness, self.Conscientiousness, self.Agreeableness, self.Extraversion, self.Neuroticism]\n",
    "        #all if statements because multiple traits can have the highest score and don't want to skip them\n",
    "        if self.Openness == max(personality_traits): #for each trait if it is equal to the highest score in the list than it prints that it is the highest score and what score it is\n",
    "            print('Your highest trait is Openness at a score of: ' + str(self.Openness))\n",
    "        if self.Conscientiousness == max(personality_traits): #I do this for all traits\n",
    "            print('Your highest trait is Conscientiousness at a score of: ' + str(self.Conscientiousness))\n",
    "        if self.Agreeableness == max(personality_traits):\n",
    "            print('Your highest trait is Agreeableness at a score of: ' + str(self.Agreeableness))\n",
    "        if self.Extraversion == max(personality_traits):\n",
    "            print('Your highest trait is Extraversion at a score of: ' + str(self.Extraversion))\n",
    "        if self.Neuroticism == max(personality_traits):\n",
    "            print('Your highest trait is Neuroticism at a score of: ' + str(self.Neuroticism))\n",
    "        \n",
    "#calls the class and stores the data of the users input into a variable called participant 01\n",
    "participant1 = PersonalityProfile()\n",
    "\n",
    "#gives me the highest score\n",
    "participant1.summary()\n",
    "\n",
    "#gives me a summary of the data for participant 1\n",
    "participant1.whole_summary()\n",
    "\n",
    "#tells me if participant is an introvert\n",
    "participant1.is_introvert()"
   ]
  },
  {
   "cell_type": "markdown",
   "id": "64bbf475",
   "metadata": {},
   "source": [
    "**Comments:**\n",
    "- Good work. I like the use of checks and functions\n",
    "- I also like that you created a list from all the values to find the max values. Could also make it an object of the class like ``self.personality_traitsl``.\n",
    "- code: 4/4, documentation, 4/4, **bonus: + 1; total: 9/8**"
   ]
  },
  {
   "cell_type": "markdown",
   "id": "1cb77e7c",
   "metadata": {},
   "source": [
    "**Total grade: 34.5/38**"
   ]
  },
  {
   "cell_type": "code",
   "execution_count": null,
   "id": "7d915c41",
   "metadata": {},
   "outputs": [],
   "source": []
  }
 ],
 "metadata": {
  "kernelspec": {
   "display_name": "Python 3",
   "language": "python",
   "name": "python3"
  },
  "language_info": {
   "codemirror_mode": {
    "name": "ipython",
    "version": 3
   },
   "file_extension": ".py",
   "mimetype": "text/x-python",
   "name": "python",
   "nbconvert_exporter": "python",
   "pygments_lexer": "ipython3",
   "version": "3.8.8"
  }
 },
 "nbformat": 4,
 "nbformat_minor": 5
}
