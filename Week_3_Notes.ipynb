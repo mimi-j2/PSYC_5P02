{
 "cells": [
  {
   "cell_type": "code",
   "execution_count": null,
   "id": "a91109a1-372c-4708-812b-16598f85486a",
   "metadata": {},
   "outputs": [],
   "source": [
    "print('hello world')"
   ]
  },
  {
   "cell_type": "markdown",
   "id": "4afecdab-f38c-4526-9929-28f37cec39fb",
   "metadata": {},
   "source": [
    "# 1+1 #\n",
    "\n",
    "*this is makrdown text*\n",
    "\n"
   ]
  },
  {
   "cell_type": "code",
   "execution_count": 10,
   "id": "4ccaa5ec-4abd-4857-b465-c561b72f08f5",
   "metadata": {},
   "outputs": [
    {
     "data": {
      "text/plain": [
       "2"
      ]
     },
     "execution_count": 10,
     "metadata": {},
     "output_type": "execute_result"
    }
   ],
   "source": [
    "1 + 1"
   ]
  },
  {
   "cell_type": "markdown",
   "id": "197a9c0c-2a4f-46b0-8502-20a77cefe62b",
   "metadata": {},
   "source": [
    "**Arthmitic operators operate on number types**\n",
    "    - modulus\n",
    "    - exponent\n",
    "    - floor division\n"
   ]
  },
  {
   "cell_type": "markdown",
   "id": "d6c9a08b-2dc4-414c-ad0d-4b57958392a2",
   "metadata": {},
   "source": [
    "## Functions ##\n",
    "- elaborate pieces of code that are\n",
    "            *name(arguments)*\n",
    "- can use the **help(functionName)** function to get information on specific things such as what it does and what you can put into it\n"
   ]
  },
  {
   "cell_type": "markdown",
   "id": "fb90a865-2183-41eb-989c-b8c2f64784a2",
   "metadata": {},
   "source": [
    "# Strings #\n",
    "*strings are denoted with quotes and numbers are just by themselves*\n",
    "\n",
    "# Int and Float #\n",
    "- numbers and numeric values\n",
    "- floats have decimals\n",
    "- integers do not\n"
   ]
  },
  {
   "cell_type": "markdown",
   "id": "e44f5d42-8e5c-4fb9-a5a3-46c400861c18",
   "metadata": {},
   "source": [
    "## Variables ##\n",
    "**variables are placeholders (memory locations) for storing data values, storing it for later use**\n",
    "- EX: text = 'hellow world'\n",
    "- EX: x = 2\n",
    "\n",
    "*cannot assign an empty variable*\n",
    "  \n",
    "  "
   ]
  },
  {
   "cell_type": "markdown",
   "id": "ccb8d089-c74d-42cd-bad4-c9e7ce845e30",
   "metadata": {},
   "source": [
    "## Variable Naming ##\n",
    "- variables must start with a letter or underscore\n",
    "- can only contain numbers, letters, and underscore\n",
    "- CANNOT start with a number\n",
    "- is case sensitive"
   ]
  },
  {
   "cell_type": "code",
   "execution_count": 3,
   "id": "71a86e75-2c5e-456b-8615-d0070c859ca9",
   "metadata": {},
   "outputs": [],
   "source": [
    "a, b, c = 1, 2, 3\n",
    "# this seperates the variabels so a = 1, b = 2, and c =3\n",
    "x = y = z = 10\n",
    "# this means x is equal to y and y is equal to z and z is equal to 10"
   ]
  },
  {
   "cell_type": "markdown",
   "id": "6dc6ded1-c9cd-414a-bd6d-33e2d265f1a1",
   "metadata": {},
   "source": [
    "## Type Error ##\n",
    "**different types cannot be computed together**\n",
    "\n",
    "EX: 'hello' + 1\n",
    "- *This will not work can't add a string to an integer*\n",
    "BUT can do 'a' + 'b'\n",
    "- *this will return 'ab' so you can add two strings and two integers together*\n",
    "\n",
    "*NOTE: in Python it will tell you what line the error occurered*\n",
    "  "
   ]
  },
  {
   "cell_type": "code",
   "execution_count": 4,
   "id": "e348e4f8-498a-4b1c-95e0-ed8af1e55b45",
   "metadata": {},
   "outputs": [
    {
     "data": {
      "text/plain": [
       "str"
      ]
     },
     "execution_count": 4,
     "metadata": {},
     "output_type": "execute_result"
    }
   ],
   "source": [
    "x = 'some text'\n",
    "type(x)\n",
    "# the function type will tell you what type a variable is"
   ]
  },
  {
   "cell_type": "markdown",
   "id": "0871960f-7379-4123-b2e4-33ad5040bfea",
   "metadata": {},
   "source": [
    "## Syntax Error ##\n",
    "*The code needs to make sense, if you put variables, commas, text in the wrong place it will return a syntax error*"
   ]
  },
  {
   "cell_type": "markdown",
   "id": "d8ee6d0b-a5da-47ba-8f19-aa773b9c5e4f",
   "metadata": {},
   "source": [
    "## Name Error ##\n",
    "**Basically if your variables are not correctly defined you will get a name error**"
   ]
  },
  {
   "cell_type": "code",
   "execution_count": null,
   "id": "92777fd7-37c8-4c7f-bc36-a62237b273d4",
   "metadata": {},
   "outputs": [],
   "source": [
    "#If you want to delete a variable from the workspace you can use the del(variable) command\n",
    "del(x)"
   ]
  },
  {
   "cell_type": "code",
   "execution_count": 5,
   "id": "26e49531-f21d-4cbc-ba6c-11a3ef3f6057",
   "metadata": {},
   "outputs": [
    {
     "data": {
      "text/plain": [
       "'C:\\\\Users\\\\miche'"
      ]
     },
     "execution_count": 5,
     "metadata": {},
     "output_type": "execute_result"
    }
   ],
   "source": [
    "pwd\n",
    "#find where the python file is locted"
   ]
  },
  {
   "cell_type": "code",
   "execution_count": 7,
   "id": "1ad20185-26ab-43b5-b62c-a0b3cde50f48",
   "metadata": {},
   "outputs": [
    {
     "data": {
      "text/plain": [
       "3"
      ]
     },
     "execution_count": 7,
     "metadata": {},
     "output_type": "execute_result"
    }
   ],
   "source": [
    "myString = '111'\n",
    "myInt = 111\n",
    "# len(variable) tells you how many characters are in a string, or how many items are in a list or dictonary\n",
    "len(myString)\n",
    "#string has a length but Integers do not have lengths (it is just a numerical value) - while there are multiple lelments in a string (each character in a string)\n"
   ]
  },
  {
   "cell_type": "code",
   "execution_count": 10,
   "id": "75fda971-f0fa-4a3b-afa3-79bc0f835b88",
   "metadata": {},
   "outputs": [
    {
     "data": {
      "text/plain": [
       "11"
      ]
     },
     "execution_count": 10,
     "metadata": {},
     "output_type": "execute_result"
    }
   ],
   "source": [
    "newString = 'hello world'\n",
    "len(newString)\n",
    "#every value (character) within the string has an index"
   ]
  },
  {
   "cell_type": "markdown",
   "id": "4e933679-455f-44da-9b9a-cd0e28102dcb",
   "metadata": {},
   "source": [
    "## Indexing ##\n",
    "**using this index number you can find and manipulate certain things in a variable**\n",
    "\n",
    "*NOTE: Python indexing starts at 0*\n",
    "\n",
    "- You can also specify a range of values using a :\n",
    "- You can also start from the end of teh string using negative values"
   ]
  },
  {
   "cell_type": "code",
   "execution_count": null,
   "id": "d68bd373-84ac-448d-a109-69e2be09d3a6",
   "metadata": {},
   "outputs": [],
   "source": []
  },
  {
   "cell_type": "code",
   "execution_count": 11,
   "id": "3b2a7c30-949e-4d2b-8deb-17018857e921",
   "metadata": {},
   "outputs": [
    {
     "data": {
      "text/plain": [
       "'h'"
      ]
     },
     "execution_count": 11,
     "metadata": {},
     "output_type": "execute_result"
    }
   ],
   "source": [
    "newString[0]\n",
    "newString[1:5]\n",
    "#everything starts with 0 in Python\n",
    "#this retrieves the character that corresponds to this index object - in this case it is h"
   ]
  },
  {
   "cell_type": "code",
   "execution_count": null,
   "id": "f79b3636-fb76-469b-ba3f-4967c6741e62",
   "metadata": {},
   "outputs": [],
   "source": [
    "newString[1:5]\n",
    "# return the characters from index 1-5 only"
   ]
  },
  {
   "cell_type": "code",
   "execution_count": null,
   "id": "18fa37ce-5e80-4b71-b32b-0ce87d0c6d23",
   "metadata": {},
   "outputs": [],
   "source": [
    "newString[1:9:2]\n",
    "# this says to go from character at index 1 to character at index 9, and go by 2"
   ]
  },
  {
   "cell_type": "code",
   "execution_count": 12,
   "id": "1182c7b2-9252-489d-9ca2-6e53a4caf5b2",
   "metadata": {},
   "outputs": [
    {
     "data": {
      "text/plain": [
       "'drwo'"
      ]
     },
     "execution_count": 12,
     "metadata": {},
     "output_type": "execute_result"
    }
   ],
   "source": [
    "newString[-1:2:-2]\n",
    "#starts at the last letter (at index -1) and ends at the other letter (at index 2) skipping by -2 basically going backwards by 2"
   ]
  },
  {
   "cell_type": "code",
   "execution_count": 14,
   "id": "3c2e92d6-9bc2-43ab-b996-ab96fa6828d8",
   "metadata": {},
   "outputs": [
    {
     "data": {
      "text/plain": [
       "'hell'"
      ]
     },
     "execution_count": 14,
     "metadata": {},
     "output_type": "execute_result"
    }
   ],
   "source": [
    "newString[0:5]"
   ]
  },
  {
   "cell_type": "code",
   "execution_count": 16,
   "id": "194483c9-3579-470f-b0b9-53e656958201",
   "metadata": {},
   "outputs": [
    {
     "data": {
      "text/plain": [
       "'world'"
      ]
     },
     "execution_count": 16,
     "metadata": {},
     "output_type": "execute_result"
    }
   ],
   "source": [
    "newString[6:11]"
   ]
  },
  {
   "cell_type": "code",
   "execution_count": 63,
   "id": "109b243d-47dd-411a-b74a-9445e6103e5f",
   "metadata": {},
   "outputs": [
    {
     "data": {
      "text/plain": [
       "'drwol'"
      ]
     },
     "execution_count": 63,
     "metadata": {},
     "output_type": "execute_result"
    }
   ],
   "source": [
    "newString[-1:-11:-2]"
   ]
  },
  {
   "cell_type": "code",
   "execution_count": 45,
   "id": "f794bdd4-aae3-4513-b4af-77eb27aff531",
   "metadata": {},
   "outputs": [
    {
     "data": {
      "text/plain": [
       "'dlrow olleh'"
      ]
     },
     "execution_count": 45,
     "metadata": {},
     "output_type": "execute_result"
    }
   ],
   "source": [
    "newString[-1:-12:-1]\n",
    "#start at the last letter and go beyond the final index\n",
    "#index 0:5 - will take the characters up to the number at the 4th index not at the 5th index"
   ]
  },
  {
   "cell_type": "markdown",
   "id": "f74909e9-0bb6-403d-85ee-ad52b76c7844",
   "metadata": {},
   "source": [
    "## Lists ##\n",
    "**A list is created using square brackets; items in a list**\n",
    "\n",
    "EX: drinks = [\"whiskey', 'vodka', ' lager', 'cider']\n",
    "\n",
    "Lists are: \n",
    "- **Ordered** - they have a defined order that will not change; indexed locations such as whsikey is index 0, vodka is index 1 etc..\n",
    "- **Changeable:** we can change, ass and remove items from a list\n",
    "\n",
    "*NOTE: lists can store variables of different data types*\n",
    "\n",
    "*Tulpes are defined with round brackets*"
   ]
  },
  {
   "cell_type": "code",
   "execution_count": 87,
   "id": "5be35c06-7fe6-433d-b7f1-f7a7e7e6f5cc",
   "metadata": {},
   "outputs": [
    {
     "name": "stdout",
     "output_type": "stream",
     "text": [
      "['whiskey', 'vodka', 'lager', ' cider']\n",
      "['whiskey', 'vodka', 'lager', 'tequila']\n",
      "['whiskey', 101, 'lager', 'tequila']\n",
      "<class 'list'>\n",
      "<class 'str'>\n",
      "['lager', 'tequila']\n"
     ]
    }
   ],
   "source": [
    "drinks = ['whiskey', 'vodka', 'lager', ' cider']\n",
    "print(drinks)\n",
    "\n",
    "#can change an item in a list to anotehr string item\n",
    "drinks[3] = 'tequila'\n",
    "print(drinks)\n",
    "\n",
    "#can change an item in a list to an integer item so from string to integer\n",
    "drinks[1] = 101\n",
    "print(drinks)\n",
    "\n",
    "#Type will be a list\n",
    "print(type(drinks))\n",
    "\n",
    "#Type will be str - because each item in a list is its own object\n",
    "print(type(drinks[0]))\n",
    "\n",
    "# lists can also be indexed\n",
    "print(drinks[2:4])"
   ]
  },
  {
   "cell_type": "code",
   "execution_count": 88,
   "id": "aaffa982-10ed-4110-b077-bfc6dc10abcc",
   "metadata": {},
   "outputs": [
    {
     "name": "stdout",
     "output_type": "stream",
     "text": [
      "['whiskey', 101, 'lager', 'tequila', 'wine']\n"
     ]
    },
    {
     "data": {
      "text/plain": [
       "5"
      ]
     },
     "execution_count": 88,
     "metadata": {},
     "output_type": "execute_result"
    }
   ],
   "source": [
    "#can use the method append to add to the data type of list .append()\n",
    "drinks.append('wine')\n",
    "print(drinks)\n",
    "len(drinks)"
   ]
  },
  {
   "cell_type": "code",
   "execution_count": 89,
   "id": "284f69e7-a637-4d15-97c3-da2e155e2e6d",
   "metadata": {},
   "outputs": [],
   "source": [
    "newDrinks = ['beer', 'water']"
   ]
  },
  {
   "cell_type": "code",
   "execution_count": 75,
   "id": "7fdcc1a3-f70a-4e37-b493-7cd046a147a0",
   "metadata": {},
   "outputs": [],
   "source": [
    "drinks.append(newDrinks)\n",
    "#if you use append a list with another list, it will put a list within a list - so it will be a list type item in a list"
   ]
  },
  {
   "cell_type": "code",
   "execution_count": 79,
   "id": "64de6ae5-954a-407c-ac69-a0c5e4b26ad6",
   "metadata": {},
   "outputs": [
    {
     "name": "stdout",
     "output_type": "stream",
     "text": [
      "['whiskey', 101, 'lager', 'tequila', 'wine', 'beer', 'water', 'beer', 'water']\n"
     ]
    }
   ],
   "source": [
    "drinks.extend(newDrinks)\n",
    "print(drinks)\n",
    "# extend will add the items in this other list and not the whole list item itself like append"
   ]
  },
  {
   "cell_type": "code",
   "execution_count": 86,
   "id": "d9ef0892-5453-471c-aad7-0616285781d2",
   "metadata": {},
   "outputs": [
    {
     "name": "stdout",
     "output_type": "stream",
     "text": [
      "['whiskey', 101, 'lager', 'ice tea', 'ice tea', 'ice tea', 'ice tea', 'ice tea', 'ice tea', 'ice tea', 'tequila', 'wine', 'beer', 'water', 'beer', 'water']\n"
     ]
    }
   ],
   "source": [
    "drinks.insert(3, \"ice tea\")\n",
    "print(drinks)\n",
    "#the method of insert will insetr a new item at a specific index (specific place in the list\n",
    "#if you keep using insert it will keep adding an item to that index (same place) so pushes everything back"
   ]
  },
  {
   "cell_type": "markdown",
   "id": "bb171acf-689b-4736-8740-be0aca601b7f",
   "metadata": {},
   "source": [
    "## Tuple ##\n",
    "*A Tuple are ordered and unchangeable and is defiend using round brackets ()*\n",
    "\n",
    "EX: myTuple = ('whiskey', 'wodka', 'lager','cider')\n",
    "\n",
    "## Set ##\n",
    "*a set is unordered, unchangeable, and unidexed and is defined using curly brackets a set cannot have repeat brackets*\n",
    "\n",
    "EX: mySet = {'whiskey', 'vodka', 'lager', 'cider}\n",
    "\n",
    "## Dictonary ##\n",
    "*stores data in key:value pairs. its is ordered, changeable and does not allow supplicates*\n",
    "\n",
    "patientInfo = {'age': 48, \"gender': male}"
   ]
  },
  {
   "cell_type": "markdown",
   "id": "2752caab-fed8-4571-90ba-44d32f90fe80",
   "metadata": {},
   "source": [
    "## List Methods ##\n",
    "- You can also remove items in different ways\n",
    "- myList.remove('cider') will remove first instance of 'cider'\n",
    "- myList.del(1) will remove the element at position 1\n",
    "- myList.pop)1_ will remove and return the elelment at position 1\n",
    "- myList.clear() will clear the list\n",
    "\n",
    "*Note: you can also declare an empty list by list = []"
   ]
  },
  {
   "cell_type": "markdown",
   "id": "aee29d41-f6b9-40a4-ac47-436b9a707d06",
   "metadata": {},
   "source": [
    "## Boolen statements ##\n",
    "**Boolens will only return a true or false (1 or 0)**\n",
    "\n",
    "Expressed by operators that make compariosons between values\n",
    " - *Comparison Operators*: ==, !=, >, < \n",
    " - *Logical Operators*: and, or, not\n",
    " - *Membership Operators*: in, not in\n",
    "\n",
    "Will return true if true and false if false\n",
    "\n",
    "EX: x == y (is x equal to y)\n",
    "\n",
    "*will return False*\n",
    "\n",
    "EX: x != y (is x NOT equal to y)\n",
    "\n",
    "*will return True*\n",
    "\n",
    "**Can combine operators:**\n",
    "\n",
    "EX: x != y and x > y\n",
    "\n",
    "*will return False - in order to return True both statements need to return True, if one of these statements is False than it returns False*\n",
    "\n",
    "EX: x != y or x > y\n",
    "\n",
    "*will return True - in order to return True only ONE of these statements need to be True*\n",
    "\n",
    "EX: x != y and not x > y\n",
    "\n",
    "*will return True - in order to return True x must not be equal to y and x must NOT be greater than y*\n",
    "\n",
    "EX: x != y and bool(1)\n",
    "\n",
    "*will return True - because bool(1) is True, if bool(0) was False than it would return False, anything else it would be True*\n",
    "\n"
   ]
  },
  {
   "cell_type": "markdown",
   "id": "41369e46-6a45-4690-bf03-3961663c24d8",
   "metadata": {},
   "source": [
    "## If Statement ##\n",
    "*always starts with if, if something is true or not true than do something else*\n",
    "\n",
    "a = 200\n",
    "b = 33\n",
    "if b > a:\n",
    "    print('b is greater than a'\n",
    "elif a ==b:\n",
    "    print('a and b are equal')\n",
    "else:\n",
    "    print('a is greater than b')"
   ]
  },
  {
   "cell_type": "code",
   "execution_count": 90,
   "id": "96609e82-4b40-4284-923e-8c50dff652d2",
   "metadata": {},
   "outputs": [
    {
     "name": "stdout",
     "output_type": "stream",
     "text": [
      "a is greater than b\n"
     ]
    }
   ],
   "source": [
    "a = 200\n",
    "b = 33\n",
    "\n",
    "#if b is bigger than a than do this\n",
    "if b > a:\n",
    "    print('b is greater than a')\n",
    "#elif is the middle ground when you have other ifs you want to account for if your first if statement is false\n",
    "elif a == b:\n",
    "    print('a and b are equal')\n",
    "# if the if and elif statements are not true than in any other scenario do this, basically if it is any other scenario, basically what to do when all other conditions return false\n",
    "else:\n",
    "    print('a is greater than b')\n",
    "# you can only have one if and one else (your start and end- but as many elifs as you want)\n",
    "\n",
    "#if don't have elif and else will just end it after the first if statement as you did not tell it what to do if the first statement wasn't true\n",
    "# should have your if statements be able to handle all of the possible scenarios\n"
   ]
  },
  {
   "cell_type": "code",
   "execution_count": 93,
   "id": "a6a83b56-0211-4f1c-b127-17a3ab75150d",
   "metadata": {},
   "outputs": [
    {
     "name": "stdout",
     "output_type": "stream",
     "text": [
      "b is greater than OR equal to a\n",
      "a is less than b\n"
     ]
    }
   ],
   "source": [
    "c = 200\n",
    "d = 200\n",
    "\n",
    "#This is a nested if statement, so if the the ifrst if is true will go on and execute the code in it and execute the next if statement and if thats true will do both things (the start if and the nested if)\n",
    "if c >= d:\n",
    "    print('b is greater than OR equal to a')\n",
    "    if c == d:\n",
    "        print(\"a is less than b\")"
   ]
  },
  {
   "cell_type": "markdown",
   "id": "aaf5b144-b4ee-4003-9cf5-1f8e174d306f",
   "metadata": {},
   "source": [
    "## Match & Case ##\n",
    "*the other way to elavate different outcomes (especially when you have a fixed number of outcomes) is through match and case*\n",
    "\n"
   ]
  },
  {
   "cell_type": "code",
   "execution_count": 102,
   "id": "8a804744-2c4c-4543-823f-2c9f093ba6f6",
   "metadata": {},
   "outputs": [
    {
     "name": "stdin",
     "output_type": "stream",
     "text": [
      "Enter student name:  Mimi\n"
     ]
    },
    {
     "name": "stdout",
     "output_type": "stream",
     "text": [
      "Your area is: BCN\n"
     ]
    }
   ],
   "source": [
    "#to get a user to put input use the function input()\n",
    "\n",
    "name = input(\"Enter student name: \")\n",
    "if name == \"Mimi\":\n",
    "    area = \"BCN\"\n",
    "elif name == 'Joseph':\n",
    "    area = \"BCN\"\n",
    "else:\n",
    "    nameLen = len(name)\n",
    "    if nameLen <= 4:\n",
    "        area = \"SP\"\n",
    "    elif nameLen == 4 and nameLen <= 7:\n",
    "        area = \"LD\"\n",
    "    else:\n",
    "        area = \"BCN\"\n",
    "    \n",
    "print(\"Your area is: \" + area)"
   ]
  }
 ],
 "metadata": {
  "kernelspec": {
   "display_name": "Python [conda env:base] *",
   "language": "python",
   "name": "conda-base-py"
  },
  "language_info": {
   "codemirror_mode": {
    "name": "ipython",
    "version": 3
   },
   "file_extension": ".py",
   "mimetype": "text/x-python",
   "name": "python",
   "nbconvert_exporter": "python",
   "pygments_lexer": "ipython3",
   "version": "3.13.5"
  }
 },
 "nbformat": 4,
 "nbformat_minor": 5
}
